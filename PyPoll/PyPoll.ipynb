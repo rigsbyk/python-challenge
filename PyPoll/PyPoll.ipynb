{
 "cells": [
  {
   "cell_type": "code",
   "execution_count": 1,
   "metadata": {},
   "outputs": [],
   "source": [
    "# Import os provides function for interacting with the operating system(OS)\n",
    "# Import csv is a module for importing and reading csv files\n",
    "import os\n",
    "import csv"
   ]
  },
  {
   "cell_type": "code",
   "execution_count": 2,
   "metadata": {},
   "outputs": [],
   "source": [
    "# Provides the path of the csv file \"election_data.csv\"\n",
    "election_data = os.path.join(\"Resources\",\"election_data.csv\")"
   ]
  },
  {
   "cell_type": "code",
   "execution_count": 3,
   "metadata": {},
   "outputs": [],
   "source": [
    "# Initially setting variables\n",
    "vote_count = 0\n",
    "\n",
    "# Creating lists to store data\n",
    "candidate_percent = 0\n",
    "\n",
    "# Created lists to store data\n",
    "candidate_khan= []\n",
    "candidate_correy = []\n",
    "candidate_li = []\n",
    "candidate_otooley = []\n",
    "winner = []"
   ]
  },
  {
   "cell_type": "code",
   "execution_count": 4,
   "metadata": {},
   "outputs": [],
   "source": [
    "# Opens up the csvfile from the data_budget path provided above\n",
    "# CSVreader iterates over each line of the csvfile\n",
    "with open(election_data) as csvfile:\n",
    "    csvreader = csv.reader(csvfile, delimiter=\",\")\n",
    "    \n",
    "    # Next(csvreader) just reads over the header; removing it from calculations\n",
    "    csv_header = next(csvreader)\n",
    "    \n",
    "    # Going through each row after the header and first_row\n",
    "    for row in csvreader:\n",
    "        \n",
    "        # Using a count to grab total votes\n",
    "        vote_count += 1\n",
    "        \n",
    "        # Using a conditional to sort the candidates for calculations\n",
    "        # Then storing that data to a list for each candidate\n",
    "        if (row[2] == \"Khan\"):\n",
    "            candidate_khan.append(row[2])\n",
    "        elif (row[2]) == \"Correy\":\n",
    "            candidate_correy.append(row[2])\n",
    "        elif (row[2]) == \"Li\":\n",
    "            candidate_li.append(row[2])\n",
    "        elif (row[2]) == \"O'Tooley\":\n",
    "            candidate_otooley.append(row[2])\n",
    "            \n",
    "        # Finding out number of votes for each candidate\n",
    "        khan_votes = len(candidate_khan)\n",
    "        correy_votes = len(candidate_correy)\n",
    "        li_votes = len(candidate_li)\n",
    "        otooley_votes = len(candidate_otooley)\n",
    "        \n",
    "        # Finding out percent of votes for each candidate\n",
    "        khan_per = (khan_votes/vote_count) *100\n",
    "        correy_per = (correy_votes/vote_count) *100\n",
    "        li_per = (li_votes/vote_count) *100\n",
    "        otooley_per = (otooley_votes/vote_count) *100\n",
    "        \n",
    "        # Setting up to compare each candidate list to find the winner\n",
    "        # The max value will be the winner\n",
    "        winner = [khan_votes,correy_votes,li_votes,otooley_votes]\n",
    "        final_winner = max(winner)\n",
    "        \n",
    "        # Using a conditional to find the max value and who has that max value\n",
    "        if final_winner == khan_votes:\n",
    "            winner_name = 'Khan'\n",
    "        elif final_winner == correy_votes:\n",
    "            winner_name = \"Correy\"\n",
    "        elif final_winner == li_votes:\n",
    "            winner_name = \"Li\"\n",
    "        elif final_winner == otooley_votes:\n",
    "            winner_name = \"O'Tooley\"\n"
   ]
  },
  {
   "cell_type": "code",
   "execution_count": 5,
   "metadata": {},
   "outputs": [],
   "source": [
    "# Created a string to be able to call on for both print and output\n",
    "results = (\n",
    "\n",
    "            f\"Election Results\\n\"\n",
    "            f\"-----------------------------\\n\"\n",
    "            f\"Total Votes:{vote_count}\\n\"\n",
    "            f\"-----------------------------\\n\"\n",
    "            f\"Kahn: {khan_per:.3f}% ({khan_votes})\\n\"\n",
    "            f\"Correy: {correy_per:.3f}% ({correy_votes})\\n\"\n",
    "            f\"Li: {li_per:.3f}% ({li_votes})\\n\"\n",
    "            f\"O'Tooley: {otooley_per:.3f}% ({otooley_votes})\\n\"\n",
    "            f\"-----------------------------\\n\"\n",
    "            f\"Winner:{winner_name}\\n\"\n",
    "            f\"-----------------------------\\n\"\n",
    "            )"
   ]
  },
  {
   "cell_type": "code",
   "execution_count": 6,
   "metadata": {},
   "outputs": [
    {
     "name": "stdout",
     "output_type": "stream",
     "text": [
      "Election Results\n",
      "-----------------------------\n",
      "Total Votes:3521001\n",
      "-----------------------------\n",
      "Kahn: 63.000% (2218231)\n",
      "Correy: 20.000% (704200)\n",
      "Li: 14.000% (492940)\n",
      "O'Tooley: 3.000% (105630)\n",
      "-----------------------------\n",
      "Winner:Khan\n",
      "-----------------------------\n",
      "\n"
     ]
    }
   ],
   "source": [
    "# Print results\n",
    "print(results)"
   ]
  },
  {
   "cell_type": "code",
   "execution_count": 7,
   "metadata": {},
   "outputs": [],
   "source": [
    "# Provides path of output results for new text file analysis.txt\n",
    "outpath = os.path.join(\"Analysis\", \"analysis.txt\")"
   ]
  },
  {
   "cell_type": "code",
   "execution_count": 8,
   "metadata": {},
   "outputs": [],
   "source": [
    "# Opens file for writing and writes the results to analysis.txt\n",
    "with open(outpath, \"w\") as text_file:\n",
    "    text_file.write(results)"
   ]
  },
  {
   "cell_type": "code",
   "execution_count": null,
   "metadata": {},
   "outputs": [],
   "source": []
  }
 ],
 "metadata": {
  "kernelspec": {
   "display_name": "Python 3",
   "language": "python",
   "name": "python3"
  },
  "language_info": {
   "codemirror_mode": {
    "name": "ipython",
    "version": 3
   },
   "file_extension": ".py",
   "mimetype": "text/x-python",
   "name": "python",
   "nbconvert_exporter": "python",
   "pygments_lexer": "ipython3",
   "version": "3.7.6"
  }
 },
 "nbformat": 4,
 "nbformat_minor": 4
}
