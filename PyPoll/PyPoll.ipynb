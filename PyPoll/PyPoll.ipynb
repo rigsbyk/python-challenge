{
 "cells": [
  {
   "cell_type": "code",
   "execution_count": 1,
   "metadata": {},
   "outputs": [],
   "source": [
    "#import os provides function for interacting with the operating system(OS)\n",
    "#import csv is a module for importing and reading csv files\n",
    "import os\n",
    "import csv"
   ]
  },
  {
   "cell_type": "code",
   "execution_count": 2,
   "metadata": {},
   "outputs": [
    {
     "data": {
      "text/plain": [
       "'Resources/election_data.csv'"
      ]
     },
     "execution_count": 2,
     "metadata": {},
     "output_type": "execute_result"
    }
   ],
   "source": [
    "#provides the path of the csv file \"election_data.csv\"\n",
    "election_data = os.path.join(\"Resources\",\"election_data.csv\")\n",
    "election_data"
   ]
  },
  {
   "cell_type": "code",
   "execution_count": 3,
   "metadata": {},
   "outputs": [],
   "source": [
    "#initially setting variables\n",
    "vote_count = 0\n",
    "\n",
    "#creating lists to store data\n",
    "voters = []\n",
    "candidate_list = []\n",
    "candidate_count = []"
   ]
  },
  {
   "cell_type": "code",
   "execution_count": 4,
   "metadata": {},
   "outputs": [
    {
     "name": "stdout",
     "output_type": "stream",
     "text": [
      "['Li', 'Correy', \"O'Tooley\", 'Khan']\n",
      "[492940, 704200, 105630, 2218231]\n"
     ]
    }
   ],
   "source": [
    "with open(election_data) as csvfile:\n",
    "    csvreader = csv.reader(csvfile, delimiter=\",\")\n",
    "    \n",
    "    #next(csvreader) just reads over the header; removing it from calculations\n",
    "    csv_header = next(csvreader)\n",
    "    \n",
    "    #going through each row after the header and first_row\n",
    "    for row in csvreader:\n",
    "        \n",
    "        #using a count to grab total votes\n",
    "        vote_count += 1\n",
    "        \n",
    "        voters.append(row[2])\n",
    "        \n",
    "    for candidate in set(voters):\n",
    "        candidate_list.append(candidate)\n",
    "        candidate_count.append(voters.count(candidate))\n",
    "      \n",
    "    \n",
    "print(candidate_list)\n",
    "print(candidate_count)\n",
    "     "
   ]
  },
  {
   "cell_type": "code",
   "execution_count": null,
   "metadata": {},
   "outputs": [],
   "source": [
    "    print(\"Election Results\")\n",
    "    print(\"---------------\")\n",
    "    print(\"Total Votes: \" + str(vote_count))\n",
    "    print(\"---------------\")\n",
    "    print(candidate)\n",
    "    print(\"---------------\")\n",
    "    print(\"winner\")\n",
    "    print(\"---------------\")"
   ]
  },
  {
   "cell_type": "code",
   "execution_count": null,
   "metadata": {},
   "outputs": [],
   "source": []
  },
  {
   "cell_type": "code",
   "execution_count": null,
   "metadata": {},
   "outputs": [],
   "source": []
  }
 ],
 "metadata": {
  "kernelspec": {
   "display_name": "Python 3",
   "language": "python",
   "name": "python3"
  },
  "language_info": {
   "codemirror_mode": {
    "name": "ipython",
    "version": 3
   },
   "file_extension": ".py",
   "mimetype": "text/x-python",
   "name": "python",
   "nbconvert_exporter": "python",
   "pygments_lexer": "ipython3",
   "version": "3.7.6"
  }
 },
 "nbformat": 4,
 "nbformat_minor": 4
}
