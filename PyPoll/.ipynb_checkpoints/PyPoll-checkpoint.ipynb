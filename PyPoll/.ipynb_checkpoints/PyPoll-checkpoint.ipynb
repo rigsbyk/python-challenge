{
 "cells": [
  {
   "cell_type": "code",
   "execution_count": 5,
   "metadata": {},
   "outputs": [],
   "source": [
    "#import os provides function for interacting with the operating system(OS)\n",
    "#import csv is a module for importing and reading csv files\n",
    "import os\n",
    "import csv"
   ]
  },
  {
   "cell_type": "code",
   "execution_count": 6,
   "metadata": {},
   "outputs": [
    {
     "data": {
      "text/plain": [
       "'Resources/election_data.csv'"
      ]
     },
     "execution_count": 6,
     "metadata": {},
     "output_type": "execute_result"
    }
   ],
   "source": [
    "#provides the path of the csv file \"election_data.csv\"\n",
    "election_data = os.path.join(\"Resources\",\"election_data.csv\")\n",
    "election_data"
   ]
  },
  {
   "cell_type": "code",
   "execution_count": 7,
   "metadata": {},
   "outputs": [],
   "source": [
    "#initially setting variables\n",
    "vote_count = 0\n",
    "\n",
    "#creating lists to store data\n",
    "voters = []"
   ]
  },
  {
   "cell_type": "code",
   "execution_count": 8,
   "metadata": {},
   "outputs": [
    {
     "name": "stdout",
     "output_type": "stream",
     "text": [
      "Khan:\n",
      "O'Tooley:\n",
      "Correy:\n",
      "Li:\n"
     ]
    }
   ],
   "source": [
    "with open(election_data) as csvfile:\n",
    "    csvreader = csv.reader(csvfile, delimiter=\",\")\n",
    "    \n",
    "    #next(csvreader) just reads over the header; removing it from calculations\n",
    "    csv_header = next(csvreader)\n",
    "    \n",
    "    #going through each row after the header and first_row\n",
    "    for row in csvreader:\n",
    "        \n",
    "        #using a count to grab total votes\n",
    "        vote_count += 1\n",
    "        \n",
    "        voters.append(row[2])\n",
    "        \n",
    "    for candidate in set(voters):\n",
    "        print(candidate + \":\")\n",
    "     "
   ]
  },
  {
   "cell_type": "code",
   "execution_count": null,
   "metadata": {},
   "outputs": [],
   "source": [
    "    print(\"Election Results\")\n",
    "    print(\"---------------\")\n",
    "    print(\"Total Votes: \" + str(vote_count))\n",
    "    print(\"---------------\")\n",
    "    print(\"Results\")\n",
    "    print(\"---------------\")\n",
    "    print(\"winner\")\n",
    "    print(\"---------------\")"
   ]
  },
  {
   "cell_type": "code",
   "execution_count": null,
   "metadata": {},
   "outputs": [],
   "source": []
  }
 ],
 "metadata": {
  "kernelspec": {
   "display_name": "Python 3",
   "language": "python",
   "name": "python3"
  },
  "language_info": {
   "codemirror_mode": {
    "name": "ipython",
    "version": 3
   },
   "file_extension": ".py",
   "mimetype": "text/x-python",
   "name": "python",
   "nbconvert_exporter": "python",
   "pygments_lexer": "ipython3",
   "version": "3.7.6"
  }
 },
 "nbformat": 4,
 "nbformat_minor": 4
}
