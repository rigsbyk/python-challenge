{
 "cells": [
  {
   "cell_type": "code",
   "execution_count": 29,
   "metadata": {},
   "outputs": [],
   "source": [
    "# Import os\n",
    "# Import re to do regular expressions\n",
    "import os\n",
    "import re"
   ]
  },
  {
   "cell_type": "code",
   "execution_count": 30,
   "metadata": {
    "scrolled": true
   },
   "outputs": [
    {
     "name": "stdout",
     "output_type": "stream",
     "text": [
      "Gene expression in mammals is regulated by noncoding elements that can affect physiology and disease, yet the functions and target genes of most noncoding elements remain unknown. We present a high-throughput approach that uses clustered regularly interspaced short palindromic repeats (CRISPR) interference (CRISPRi) to discover regulatory elements and identify their target genes. We assess >1 megabase of sequence in the vicinity of two essential transcription factors, MYC and GATA1, and identify nine distal enhancers that control gene expression and cellular proliferation. Quantitative features of chromatin state and chromosome conformation distinguish the seven enhancers that regulate MYC from other elements that do not, suggesting a strategy for predicting enhancer–promoter connectivity. This CRISPRi-based approach can be applied to dissect transcriptional networks and interpret the contributions of noncoding genetic variation to human disease.\n"
     ]
    }
   ],
   "source": [
    "f = open('Resources/paragraph_1.txt', 'r')\n",
    "lines = f.read()\n",
    "print(lines)\n"
   ]
  },
  {
   "cell_type": "code",
   "execution_count": 43,
   "metadata": {},
   "outputs": [
    {
     "name": "stdout",
     "output_type": "stream",
     "text": [
      "5\n"
     ]
    }
   ],
   "source": [
    "# Finding the approximate word count\n",
    "words = re.sub(\"[\\-,><,(),\\–,\\.]\",'',lines).replace('','')\n",
    "wordsplit = re.split(' ',words)\n",
    "wordcount = len(wordsplit)\n",
    "\n",
    "# Finding the approximate sentence count\n",
    "sentences = re.sub(\"[\\n]\",'',lines).replace('','')\n",
    "s_split = re.split('\\.',sentences)\n",
    "sentencecount = len(s_split)-1\n",
    "\n",
    "\n",
    "# Finding the average letter count\n",
    "letters = re.sub(\"[\\., \\-')()><\\n]\", '', lines).replace('','')\n",
    "letteravg = round(len(letters)/len(wordsplit),2)\n",
    "\n",
    "\n",
    "\n"
   ]
  },
  {
   "cell_type": "code",
   "execution_count": 44,
   "metadata": {},
   "outputs": [],
   "source": [
    "results = (\n",
    "\n",
    "            f\"Paragraph Analysis\\n\"\n",
    "            f\"---------------------\\n\"\n",
    "            f\"Approximate Word Count:{wordcount}\\n\"\n",
    "            f\"Approximate Sentence Count:{sentencecount}\\n\"\n",
    "            f\"Average Letter Count:{letteravg} \\n\"\n",
    "            f\"Average Sentence Length:  \\n\"\n",
    "\n",
    "            )"
   ]
  },
  {
   "cell_type": "code",
   "execution_count": 45,
   "metadata": {},
   "outputs": [
    {
     "name": "stdout",
     "output_type": "stream",
     "text": [
      "Paragraph Analysis\n",
      "---------------------\n",
      "Approximate Word Count:130\n",
      "Approximate Sentence Count:5\n",
      "Average Letter Count:6.27 \n",
      "Average Sentence Length:  \n",
      "\n"
     ]
    }
   ],
   "source": [
    "print(results)"
   ]
  },
  {
   "cell_type": "code",
   "execution_count": 46,
   "metadata": {},
   "outputs": [],
   "source": [
    "outpath = os.path.join('Resources','paragraph1_results.txt')"
   ]
  },
  {
   "cell_type": "code",
   "execution_count": 47,
   "metadata": {},
   "outputs": [],
   "source": [
    "with open(outpath,'w')as textfile:\n",
    "    textfile.write(results)"
   ]
  },
  {
   "cell_type": "code",
   "execution_count": null,
   "metadata": {},
   "outputs": [],
   "source": []
  }
 ],
 "metadata": {
  "kernelspec": {
   "display_name": "Python 3",
   "language": "python",
   "name": "python3"
  },
  "language_info": {
   "codemirror_mode": {
    "name": "ipython",
    "version": 3
   },
   "file_extension": ".py",
   "mimetype": "text/x-python",
   "name": "python",
   "nbconvert_exporter": "python",
   "pygments_lexer": "ipython3",
   "version": "3.7.6"
  }
 },
 "nbformat": 4,
 "nbformat_minor": 4
}
