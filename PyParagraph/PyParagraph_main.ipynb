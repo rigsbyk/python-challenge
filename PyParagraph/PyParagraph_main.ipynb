{
 "cells": [
  {
   "cell_type": "code",
   "execution_count": 1,
   "metadata": {},
   "outputs": [],
   "source": [
    "# Import os\n",
    "# Import re to do regular expressions\n",
    "import os\n",
    "import re"
   ]
  },
  {
   "cell_type": "code",
   "execution_count": 2,
   "metadata": {
    "scrolled": true
   },
   "outputs": [],
   "source": [
    "# Open paragraph_1.txt and read it\n",
    "f = open('Resources/paragraph_1.txt', 'r')\n",
    "lines = f.read()"
   ]
  },
  {
   "cell_type": "code",
   "execution_count": 3,
   "metadata": {},
   "outputs": [],
   "source": [
    "# Finding the approximate word count\n",
    "words = re.sub(\"[\\-,><,(),\\–,\\.]\",'',lines).replace('','')\n",
    "wordsplit = re.split(' ',words)\n",
    "wordcount = len(wordsplit)\n",
    "\n",
    "# Finding the approximate sentence count\n",
    "sentences = re.sub(\"[\\n]\",'',lines).replace('','')\n",
    "s_split = re.split('\\.',sentences)\n",
    "sentencecount = len(s_split)-1\n",
    "\n",
    "\n",
    "# Finding the average letter count\n",
    "letters = re.sub(\"[\\., \\-')()><\\n]\", '', lines).replace('','')\n",
    "letteravg = round(len(letters)/len(wordsplit),2)\n",
    "\n",
    "# Finding the average sentence length\n",
    "avgsent = round(len(wordsplit)/len(s_split),2)\n",
    "\n"
   ]
  },
  {
   "cell_type": "code",
   "execution_count": 4,
   "metadata": {},
   "outputs": [],
   "source": [
    "# Creating a list to print and write output of results\n",
    "results = (\n",
    "\n",
    "            f\"Paragraph Analysis\\n\"\n",
    "            f\"---------------------\\n\"\n",
    "            f\"Approximate Word Count: {wordcount}\\n\"\n",
    "            f\"Approximate Sentence Count: {sentencecount}\\n\"\n",
    "            f\"Average Letter Count: {letteravg} \\n\"\n",
    "            f\"Average Sentence Length: {avgsent}  \\n\"\n",
    "\n",
    "            )"
   ]
  },
  {
   "cell_type": "code",
   "execution_count": 5,
   "metadata": {},
   "outputs": [
    {
     "name": "stdout",
     "output_type": "stream",
     "text": [
      "Paragraph Analysis\n",
      "---------------------\n",
      "Approximate Word Count: 130\n",
      "Approximate Sentence Count: 5\n",
      "Average Letter Count: 6.27 \n",
      "Average Sentence Length: 21.67  \n",
      "\n"
     ]
    }
   ],
   "source": [
    "# Print results\n",
    "print(results)"
   ]
  },
  {
   "cell_type": "code",
   "execution_count": 6,
   "metadata": {},
   "outputs": [],
   "source": [
    "# Providing outpath to where it will write the new paragraph1_resuls.txt\n",
    "outpath = os.path.join('Resources','paragraph1_results.txt')"
   ]
  },
  {
   "cell_type": "code",
   "execution_count": 7,
   "metadata": {},
   "outputs": [],
   "source": [
    "# Opening and writing results to new file\n",
    "with open(outpath,'w')as textfile:\n",
    "    textfile.write(results)"
   ]
  },
  {
   "cell_type": "code",
   "execution_count": 8,
   "metadata": {},
   "outputs": [],
   "source": [
    "# Done with file, now closing it\n",
    "f.close()"
   ]
  },
  {
   "cell_type": "code",
   "execution_count": null,
   "metadata": {},
   "outputs": [],
   "source": []
  }
 ],
 "metadata": {
  "kernelspec": {
   "display_name": "Python 3",
   "language": "python",
   "name": "python3"
  },
  "language_info": {
   "codemirror_mode": {
    "name": "ipython",
    "version": 3
   },
   "file_extension": ".py",
   "mimetype": "text/x-python",
   "name": "python",
   "nbconvert_exporter": "python",
   "pygments_lexer": "ipython3",
   "version": "3.7.6"
  }
 },
 "nbformat": 4,
 "nbformat_minor": 4
}
