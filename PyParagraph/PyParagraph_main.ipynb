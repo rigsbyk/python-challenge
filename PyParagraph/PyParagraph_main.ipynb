{
 "cells": [
  {
   "cell_type": "code",
   "execution_count": 7,
   "metadata": {},
   "outputs": [],
   "source": [
    "import os\n",
    "import re"
   ]
  },
  {
   "cell_type": "code",
   "execution_count": 43,
   "metadata": {
    "scrolled": true
   },
   "outputs": [
    {
     "name": "stdout",
     "output_type": "stream",
     "text": [
      "Gene expression in mammals is regulated by noncoding elements that can affect physiology and disease, yet the functions and target genes of most noncoding elements remain unknown. We present a high-throughput approach that uses clustered regularly interspaced short palindromic repeats (CRISPR) interference (CRISPRi) to discover regulatory elements and identify their target genes. We assess >1 megabase of sequence in the vicinity of two essential transcription factors, MYC and GATA1, and identify nine distal enhancers that control gene expression and cellular proliferation. Quantitative features of chromatin state and chromosome conformation distinguish the seven enhancers that regulate MYC from other elements that do not, suggesting a strategy for predicting enhancer–promoter connectivity. This CRISPRi-based approach can be applied to dissect transcriptional networks and interpret the contributions of noncoding genetic variation to human disease.\n"
     ]
    }
   ],
   "source": [
    "f = open('Resources/paragraph_1.txt', 'r')\n",
    "lines = f.read()\n",
    "print(lines)\n"
   ]
  },
  {
   "cell_type": "code",
   "execution_count": 60,
   "metadata": {},
   "outputs": [
    {
     "name": "stdout",
     "output_type": "stream",
     "text": [
      "['Gene', 'expression', 'in', 'mammals', 'is', 'regulated', 'by', 'noncoding', 'elements', 'that', 'can', 'affect', 'physiology', 'and', 'disease,', 'yet', 'the', 'functions', 'and', 'target', 'genes', 'of', 'most', 'noncoding', 'elements', 'remain', 'unknown.', 'We', 'present', 'a', 'high-throughput', 'approach', 'that', 'uses', 'clustered', 'regularly', 'interspaced', 'short', 'palindromic', 'repeats', '(CRISPR)', 'interference', '(CRISPRi)', 'to', 'discover', 'regulatory', 'elements', 'and', 'identify', 'their', 'target', 'genes.', 'We', 'assess', '>1', 'megabase', 'of', 'sequence', 'in', 'the', 'vicinity', 'of', 'two', 'essential', 'transcription', 'factors,', 'MYC', 'and', 'GATA1,', 'and', 'identify', 'nine', 'distal', 'enhancers', 'that', 'control', 'gene', 'expression', 'and', 'cellular', 'proliferation.', 'Quantitative', 'features', 'of', 'chromatin', 'state', 'and', 'chromosome', 'conformation', 'distinguish', 'the', 'seven', 'enhancers', 'that', 'regulate', 'MYC', 'from', 'other', 'elements', 'that', 'do', 'not,', 'suggesting', 'a', 'strategy', 'for', 'predicting', 'enhancer–promoter', 'connectivity.', 'This', 'CRISPRi-based', 'approach', 'can', 'be', 'applied', 'to', 'dissect', 'transcriptional', 'networks', 'and', 'interpret', 'the', 'contributions', 'of', 'noncoding', 'genetic', 'variation', 'to', 'human', 'disease.']\n"
     ]
    }
   ],
   "source": [
    "#words = re.sub(\"[\\-,><,(),\\–,\\.]\",'',lines).replace('','')\n",
    "#wordsplit = re.split(' ',words)\n",
    "#print(wordsplit)\n",
    "\n",
    "#wordcount = len(wordsplit)\n",
    "\n",
    "letters = re.sub(\"[\\-,\\–,\\.,(),><,\\,]\",'',lines).replace('\"', '')\n",
    "letterssplit = re.split(' ',lines)\n",
    "print(letterssplit)\n",
    "\n",
    "#averageletters = len(letterssplit/len(wordcount))\n",
    "#print(averageletters)\n",
    "\n",
    "#f.close()"
   ]
  },
  {
   "cell_type": "code",
   "execution_count": 58,
   "metadata": {},
   "outputs": [],
   "source": [
    "results = (\n",
    "\n",
    "            f\"Paragraph Analysis\\n\"\n",
    "            f\"---------------------\\n\"\n",
    "            f\"Approximate Word Count:{wordcount}\\n\"\n",
    "            f\"Average Letter Count: \\n\"\n",
    "            f\"Average Sentence Length:  \\n\"\n",
    "\n",
    "            )"
   ]
  },
  {
   "cell_type": "code",
   "execution_count": 59,
   "metadata": {},
   "outputs": [
    {
     "name": "stdout",
     "output_type": "stream",
     "text": [
      "Paragraph Analysis\n",
      "---------------------\n",
      "Approximate Word Count:130\n",
      "Average Letter Count: \n",
      "Average Sentence Length:  \n",
      "\n"
     ]
    }
   ],
   "source": [
    "print(results)"
   ]
  },
  {
   "cell_type": "code",
   "execution_count": 12,
   "metadata": {},
   "outputs": [],
   "source": [
    "outpath = os.path.join('Resources','paragraph1count.txt')"
   ]
  },
  {
   "cell_type": "code",
   "execution_count": 13,
   "metadata": {},
   "outputs": [],
   "source": [
    "with open(outpath,'w')as textfile:\n",
    "    textfile.write(results)"
   ]
  },
  {
   "cell_type": "code",
   "execution_count": null,
   "metadata": {},
   "outputs": [],
   "source": []
  }
 ],
 "metadata": {
  "kernelspec": {
   "display_name": "Python 3",
   "language": "python",
   "name": "python3"
  },
  "language_info": {
   "codemirror_mode": {
    "name": "ipython",
    "version": 3
   },
   "file_extension": ".py",
   "mimetype": "text/x-python",
   "name": "python",
   "nbconvert_exporter": "python",
   "pygments_lexer": "ipython3",
   "version": "3.7.6"
  }
 },
 "nbformat": 4,
 "nbformat_minor": 4
}
