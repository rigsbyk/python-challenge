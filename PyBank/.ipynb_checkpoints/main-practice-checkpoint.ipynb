{
 "cells": [
  {
   "cell_type": "code",
   "execution_count": 1,
   "metadata": {},
   "outputs": [],
   "source": [
    "import os\n",
    "import csv"
   ]
  },
  {
   "cell_type": "code",
   "execution_count": 2,
   "metadata": {},
   "outputs": [],
   "source": [
    "data_budget = os.path.join(\"Resources\",\"budget-data.csv\")"
   ]
  },
  {
   "cell_type": "code",
   "execution_count": 3,
   "metadata": {},
   "outputs": [],
   "source": [
    "total_months = 0\n",
    "net_total = 0"
   ]
  },
  {
   "cell_type": "code",
   "execution_count": 4,
   "metadata": {},
   "outputs": [],
   "source": [
    "with open(data_budget) as csvfile:\n",
    "    csvreader = csv.reader(csvfile, delimiter=\",\")\n",
    "    #next(csvreader, None) removed the header from the count of total months\n",
    "    next(csvreader, None)\n",
    "    for row in csvreader:\n",
    "        \n",
    "        total_months += 1\n",
    "        \n",
    "        net_total += int(row[1])"
   ]
  },
  {
   "cell_type": "code",
   "execution_count": 5,
   "metadata": {},
   "outputs": [],
   "source": [
    "outpath = os.path.join(\"Analysis\",\"analysis.txt\")"
   ]
  },
  {
   "cell_type": "code",
   "execution_count": 6,
   "metadata": {},
   "outputs": [],
   "source": [
    "with open(outpath, \"w\") as text_file:\n",
    "    \n",
    "    text_file.write(\"Financial Analysis\\n\")\n",
    "    text_file.write(\"---------------------\\n\")\n",
    "    text_file.write(\"Total Months: {0}\\n\".format(total_months))\n",
    "    text_file.write(\"Total:{0}\\n\".format(net_total))\n",
    "    text_file.write(\"Average Change:\\n\")\n",
    "    text_file.write(\"Greatest Increase in profits:\\n\")\n",
    "    text_file.write(\"Greatest Decrease in profits:\\n\")"
   ]
  },
  {
   "cell_type": "code",
   "execution_count": null,
   "metadata": {},
   "outputs": [],
   "source": []
  }
 ],
 "metadata": {
  "kernelspec": {
   "display_name": "Python 3",
   "language": "python",
   "name": "python3"
  },
  "language_info": {
   "codemirror_mode": {
    "name": "ipython",
    "version": 3
   },
   "file_extension": ".py",
   "mimetype": "text/x-python",
   "name": "python",
   "nbconvert_exporter": "python",
   "pygments_lexer": "ipython3",
   "version": "3.7.6"
  }
 },
 "nbformat": 4,
 "nbformat_minor": 4
}
