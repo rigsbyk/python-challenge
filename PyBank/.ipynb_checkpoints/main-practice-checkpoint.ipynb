{
 "cells": [
  {
   "cell_type": "code",
   "execution_count": null,
   "metadata": {},
   "outputs": [],
   "source": [
    "# Import os provides function for interacting with the operating system(OS)\n",
    "# Import csv is a module for importing and reading csv files\n",
    "import os\n",
    "import csv"
   ]
  },
  {
   "cell_type": "code",
   "execution_count": null,
   "metadata": {},
   "outputs": [],
   "source": [
    "# Provides the path of the csv file \"budget-data.csv\"\n",
    "data_budget = os.path.join(\"Resources\",\"budget-data.csv\")"
   ]
  },
  {
   "cell_type": "code",
   "execution_count": null,
   "metadata": {},
   "outputs": [],
   "source": [
    "# Initially setting the variables changes\n",
    "changes = 0\n",
    "net_total = 0\n",
    "previous = 0\n",
    "total_months = 0 \n",
    "\n",
    "# Created lists to store data\n",
    "date = []\n",
    "profits = []"
   ]
  },
  {
   "cell_type": "code",
   "execution_count": null,
   "metadata": {},
   "outputs": [],
   "source": [
    "# Opens up the csvfile from the data_budget path provided above\n",
    "# CSVreader iterates over each line of the csvfile\n",
    "with open(data_budget) as csvfile:\n",
    "    csvreader = csv.reader(csvfile, delimiter=\",\")\n",
    "    \n",
    "    # Next(csvreader) just reads over the header; removing it from calculations\n",
    "    csv_header = next(csvreader)\n",
    "    \n",
    "    # Next(csvreader) on the first row so that it can calculate the Average Change\n",
    "    # Starting with the second row of calcuable data\n",
    "    first_row = next(csvreader)\n",
    "    previous = int(first_row[1])\n",
    "    net_total = net_total + int(first_row[1])\n",
    "    total_months = total_months + 1\n",
    "    \n",
    "    # Going through each row after the header and first_row\n",
    "    for row in csvreader:\n",
    "        \n",
    "        # Using a count to get total number of rows for total months count\n",
    "        total_months += 1\n",
    "        \n",
    "        # Using a counter to total up Profit/Losses\n",
    "        net_total = net_total + int(row[1])\n",
    "     \n",
    "        # As it goes through for row in csvreader, it calculates the changes\n",
    "        # Then it adds those calculations to the profit list\n",
    "        changes = int(row[1]) - previous\n",
    "        profits.append(changes)\n",
    "        previous = int(row[1])\n",
    "        \n",
    "        # Calculating greatest increase/decrease of profits using stored profits data\n",
    "        greatestincrease = max(profits)\n",
    "        greatestdecrease = min(profits)\n",
    "        \n",
    "        # Grabbing the associated date of greatest increase/decrease using the index list method\n",
    "        date.append(row[0])\n",
    "        idate = date[profits.index(greatestincrease)]\n",
    "        ddate = date[profits.index(greatestdecrease)]\n",
    "    \n",
    "    \n",
    "# After calculating above you find the average of those changes to find the Average Change       \n",
    "average_change = round(sum(profits)/len(profits),2)"
   ]
  },
  {
   "cell_type": "code",
   "execution_count": null,
   "metadata": {},
   "outputs": [],
   "source": [
    "# Created a string to be able to call on for both print and output\n",
    "results = (\n",
    "            f\"Financial Analysis\\n\"\n",
    "            f\"---------------------\\n\"\n",
    "            f\"Total Months:{total_months}\\n\"\n",
    "            f\"Total:{net_total}\\n\"\n",
    "            f\"Average Change:{average_change}\\n\"\n",
    "            f\"Greatest Increase in Profits: {idate} ${greatestincrease}\\n\"\n",
    "            f\"Greatest Decrease in Profits: {ddate} ${greatestdecrease}\\n\"\n",
    "            )"
   ]
  },
  {
   "cell_type": "code",
   "execution_count": null,
   "metadata": {},
   "outputs": [],
   "source": [
    "# Print results\n",
    "print(results)"
   ]
  },
  {
   "cell_type": "code",
   "execution_count": null,
   "metadata": {},
   "outputs": [],
   "source": [
    "# Provides path of output results for new text file analysis.txt\n",
    "outpath = os.path.join(\"Analysis\",\"analysis.txt\")"
   ]
  },
  {
   "cell_type": "code",
   "execution_count": null,
   "metadata": {},
   "outputs": [],
   "source": [
    "# Opens file for writing and writes the results to analysis.txt\n",
    "with open(outpath, \"w\") as text_file:\n",
    "    text_file.write(results)"
   ]
  },
  {
   "cell_type": "code",
   "execution_count": null,
   "metadata": {},
   "outputs": [],
   "source": []
  },
  {
   "cell_type": "code",
   "execution_count": null,
   "metadata": {},
   "outputs": [],
   "source": []
  },
  {
   "cell_type": "code",
   "execution_count": null,
   "metadata": {},
   "outputs": [],
   "source": []
  },
  {
   "cell_type": "code",
   "execution_count": null,
   "metadata": {},
   "outputs": [],
   "source": []
  },
  {
   "cell_type": "markdown",
   "metadata": {},
   "source": []
  }
 ],
 "metadata": {
  "kernelspec": {
   "display_name": "Python 3",
   "language": "python",
   "name": "python3"
  },
  "language_info": {
   "codemirror_mode": {
    "name": "ipython",
    "version": 3
   },
   "file_extension": ".py",
   "mimetype": "text/x-python",
   "name": "python",
   "nbconvert_exporter": "python",
   "pygments_lexer": "ipython3",
   "version": "3.7.6"
  }
 },
 "nbformat": 4,
 "nbformat_minor": 4
}
