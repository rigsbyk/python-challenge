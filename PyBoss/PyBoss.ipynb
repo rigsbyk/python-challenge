{
 "cells": [
  {
   "cell_type": "code",
   "execution_count": 1,
   "metadata": {},
   "outputs": [],
   "source": [
    "# Import os provides function for interacting with the operating system(OS)\n",
    "# Import csv is a module for importing and reading csv files\n",
    "# Import datetime to change the format of the DOB\n",
    "import os\n",
    "import csv\n",
    "import datetime"
   ]
  },
  {
   "cell_type": "code",
   "execution_count": 2,
   "metadata": {},
   "outputs": [],
   "source": [
    "# Provides the path of the csv file \"budget-data.csv\"\n",
    "emp_data = os.path.join(\"Resources\", \"employee_data.csv\")"
   ]
  },
  {
   "cell_type": "code",
   "execution_count": 3,
   "metadata": {},
   "outputs": [],
   "source": [
    "# List of states and abbreviations from link provided in assignment\n",
    "us_state_abbrev = {\n",
    "    'Alabama': 'AL',\n",
    "    'Alaska': 'AK',\n",
    "    'Arizona': 'AZ',\n",
    "    'Arkansas': 'AR',\n",
    "    'California': 'CA',\n",
    "    'Colorado': 'CO',\n",
    "    'Connecticut': 'CT',\n",
    "    'Delaware': 'DE',\n",
    "    'Florida': 'FL',\n",
    "    'Georgia': 'GA',\n",
    "    'Hawaii': 'HI',\n",
    "    'Idaho': 'ID',\n",
    "    'Illinois': 'IL',\n",
    "    'Indiana': 'IN',\n",
    "    'Iowa': 'IA',\n",
    "    'Kansas': 'KS',\n",
    "    'Kentucky': 'KY',\n",
    "    'Louisiana': 'LA',\n",
    "    'Maine': 'ME',\n",
    "    'Maryland': 'MD',\n",
    "    'Massachusetts': 'MA',\n",
    "    'Michigan': 'MI',\n",
    "    'Minnesota': 'MN',\n",
    "    'Mississippi': 'MS',\n",
    "    'Missouri': 'MO',\n",
    "    'Montana': 'MT',\n",
    "    'Nebraska': 'NE',\n",
    "    'Nevada': 'NV',\n",
    "    'New Hampshire': 'NH',\n",
    "    'New Jersey': 'NJ',\n",
    "    'New Mexico': 'NM',\n",
    "    'New York': 'NY',\n",
    "    'North Carolina': 'NC',\n",
    "    'North Dakota': 'ND',\n",
    "    'Ohio': 'OH',\n",
    "    'Oklahoma': 'OK',\n",
    "    'Oregon': 'OR',\n",
    "    'Pennsylvania': 'PA',\n",
    "    'Rhode Island': 'RI',\n",
    "    'South Carolina': 'SC',\n",
    "    'South Dakota': 'SD',\n",
    "    'Tennessee': 'TN',\n",
    "    'Texas': 'TX',\n",
    "    'Utah': 'UT',\n",
    "    'Vermont': 'VT',\n",
    "    'Virginia': 'VA',\n",
    "    'Washington': 'WA',\n",
    "    'West Virginia': 'WV',\n",
    "    'Wisconsin': 'WI',\n",
    "    'Wyoming': 'WY',\n",
    "}"
   ]
  },
  {
   "cell_type": "code",
   "execution_count": 4,
   "metadata": {},
   "outputs": [],
   "source": [
    "# Lists to store data\n",
    "firstname = []\n",
    "lastname = []\n",
    "empid = []\n",
    "employeedob = []\n",
    "employeessn = []\n",
    "employeest = []"
   ]
  },
  {
   "cell_type": "code",
   "execution_count": 5,
   "metadata": {},
   "outputs": [],
   "source": [
    "# Opens up the csvfile from the data_budget path provided above\n",
    "# CSVreader iterates over each line of the csvfile\n",
    "with open(emp_data) as csvfile:\n",
    "    csvreader = csv.reader(csvfile, delimiter=\",\")\n",
    "    \n",
    "    # Next(csvreader) just reads over the header; removing it from calculations/results\n",
    "    csv_header = next(csvreader)\n",
    "    \n",
    "    # Going through each row after the header and first_row\n",
    "    for row in csvreader:\n",
    "        \n",
    "        # Employee id\n",
    "        empid.append(row[0])\n",
    "        \n",
    "        # Split first and last name by using rsplit()\n",
    "        name = row[1]\n",
    "        fname = name.rsplit(' ',1)[0]\n",
    "        firstname.append(fname)\n",
    "        lname = name.rsplit(' ',1)[1]\n",
    "        lastname.append(lname)\n",
    "        \n",
    "        # Stripped the old date format and created new date format\n",
    "        newdob = datetime.datetime.strptime(row[2],\"%Y-%m-%d\")\n",
    "        newdob = newdob.strftime(\"%m/%d/%Y\")\n",
    "        employeedob.append(newdob)\n",
    "        \n",
    "        # Masked the first 7 characters of ssn by split and join string methods\n",
    "        split_ssn = list(row[3])\n",
    "        split_ssn[0:3] = (\"*\",\"*\",\"*\")\n",
    "        split_ssn[4:6] = (\"*\",\"*\")\n",
    "        joined_ssn = \"\".join(split_ssn)\n",
    "        employeessn.append(joined_ssn)\n",
    "        \n",
    "        # Abbreviated state name\n",
    "        stateabbrev = us_state_abbrev[row[4]]\n",
    "        employeest.append(stateabbrev)"
   ]
  },
  {
   "cell_type": "code",
   "execution_count": 6,
   "metadata": {},
   "outputs": [],
   "source": [
    "# Zip lists together\n",
    "cleaned_csv = zip(empid,firstname,lastname,employeedob,employeessn,employeest)"
   ]
  },
  {
   "cell_type": "code",
   "execution_count": 7,
   "metadata": {},
   "outputs": [],
   "source": [
    "# Set variable for output file\n",
    "output_file = os.path.join(\"New Format\",\"Reformatted.csv\")"
   ]
  },
  {
   "cell_type": "code",
   "execution_count": 8,
   "metadata": {},
   "outputs": [],
   "source": [
    "#  Open the output file\n",
    "with open(output_file, \"w\") as datafile:\n",
    "    writer = csv.writer(datafile)\n",
    "    \n",
    "    # Write the header row\n",
    "    writer.writerow([\"Emp ID\", \"First Name\", \"Last Name\", \"DOB\",\n",
    "                     \"SSN\", \"State\"])\n",
    "    \n",
    "    # Write in zipped rows\n",
    "    writer.writerows(cleaned_csv)"
   ]
  },
  {
   "cell_type": "code",
   "execution_count": null,
   "metadata": {},
   "outputs": [],
   "source": [
    "\n"
   ]
  },
  {
   "cell_type": "code",
   "execution_count": null,
   "metadata": {},
   "outputs": [],
   "source": []
  },
  {
   "cell_type": "code",
   "execution_count": null,
   "metadata": {},
   "outputs": [],
   "source": []
  },
  {
   "cell_type": "code",
   "execution_count": null,
   "metadata": {},
   "outputs": [],
   "source": []
  }
 ],
 "metadata": {
  "kernelspec": {
   "display_name": "Python 3",
   "language": "python",
   "name": "python3"
  },
  "language_info": {
   "codemirror_mode": {
    "name": "ipython",
    "version": 3
   },
   "file_extension": ".py",
   "mimetype": "text/x-python",
   "name": "python",
   "nbconvert_exporter": "python",
   "pygments_lexer": "ipython3",
   "version": "3.7.6"
  }
 },
 "nbformat": 4,
 "nbformat_minor": 4
}
