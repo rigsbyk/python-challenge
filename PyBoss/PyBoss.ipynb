{
 "cells": [
  {
   "cell_type": "code",
   "execution_count": 22,
   "metadata": {},
   "outputs": [],
   "source": [
    "import os\n",
    "import csv\n",
    "import datetime"
   ]
  },
  {
   "cell_type": "code",
   "execution_count": 23,
   "metadata": {},
   "outputs": [],
   "source": [
    "emp_data = os.path.join(\"Resources\", \"employee_data.csv\")"
   ]
  },
  {
   "cell_type": "code",
   "execution_count": 24,
   "metadata": {},
   "outputs": [],
   "source": [
    "firstname = []\n",
    "lastname = []\n",
    "empid = []\n",
    "employeedob = []\n",
    "employeessn = []\n",
    "#employee_state = []"
   ]
  },
  {
   "cell_type": "code",
   "execution_count": 25,
   "metadata": {},
   "outputs": [],
   "source": [
    "with open(emp_data) as csvfile:\n",
    "    csvreader = csv.reader(csvfile, delimiter=\",\")\n",
    "    \n",
    "    csv_header = next(csvreader)\n",
    "    \n",
    "    for row in csvreader:\n",
    "        \n",
    "        #employee id\n",
    "        empid.append(row[0])\n",
    "        \n",
    "        #split first and last name by using rsplit()\n",
    "        name = row[1]\n",
    "        fname = name.rsplit(' ',1)[0]\n",
    "        firstname.append(fname)\n",
    "        lname = name.rsplit(' ',1)[1]\n",
    "        lastname.append(lname)\n",
    "     \n",
    "        \n",
    "        #stripped the old date format and created new date format\n",
    "        newdob = datetime.datetime.strptime(row[2],\"%Y-%m-%d\")\n",
    "        newdob = newdob.strftime(\"%m/%d/%Y\")\n",
    "        employeedob.append(newdob)\n",
    "        \n",
    "        #masked the first 7 characters of ssn by split and join string methods\n",
    "        split_ssn = list(row[3])\n",
    "        split_ssn[0:3] = (\"*\",\"*\",\"*\")\n",
    "        split_ssn[4:6] = (\"*\",\"*\")\n",
    "        joined_ssn = \"\".join(split_ssn)\n",
    "        employeessn.append(joined_ssn)"
   ]
  },
  {
   "cell_type": "code",
   "execution_count": 26,
   "metadata": {},
   "outputs": [],
   "source": [
    "cleaned_csv = zip(empid,firstname,lastname,employeedob,employeessn)"
   ]
  },
  {
   "cell_type": "code",
   "execution_count": 27,
   "metadata": {},
   "outputs": [],
   "source": [
    "output_file = os.path.join(\"New Format\",\"Reformatted.csv\")"
   ]
  },
  {
   "cell_type": "code",
   "execution_count": 28,
   "metadata": {},
   "outputs": [],
   "source": [
    "with open(output_file, \"w\") as datafile:\n",
    "    writer = csv.writer(datafile)\n",
    "    \n",
    "    writer.writerow([\"Emp ID\", \"First Name\", \"Last Name\", \"DOB\",\n",
    "                     \"SSN\", \"State\"])\n",
    "    \n",
    "    writer.writerows(cleaned_csv)"
   ]
  },
  {
   "cell_type": "code",
   "execution_count": null,
   "metadata": {},
   "outputs": [],
   "source": [
    "\n"
   ]
  },
  {
   "cell_type": "code",
   "execution_count": null,
   "metadata": {},
   "outputs": [],
   "source": []
  },
  {
   "cell_type": "code",
   "execution_count": null,
   "metadata": {},
   "outputs": [],
   "source": []
  },
  {
   "cell_type": "code",
   "execution_count": null,
   "metadata": {},
   "outputs": [],
   "source": []
  }
 ],
 "metadata": {
  "kernelspec": {
   "display_name": "Python 3",
   "language": "python",
   "name": "python3"
  },
  "language_info": {
   "codemirror_mode": {
    "name": "ipython",
    "version": 3
   },
   "file_extension": ".py",
   "mimetype": "text/x-python",
   "name": "python",
   "nbconvert_exporter": "python",
   "pygments_lexer": "ipython3",
   "version": "3.7.6"
  }
 },
 "nbformat": 4,
 "nbformat_minor": 4
}
